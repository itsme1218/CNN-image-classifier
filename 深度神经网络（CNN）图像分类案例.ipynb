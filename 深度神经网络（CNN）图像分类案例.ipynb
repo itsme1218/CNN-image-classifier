{
 "cells": [
  {
   "cell_type": "markdown",
   "metadata": {},
   "source": [
    "# 1 实验内容\n",
    "使用卷积神经网络（CNN）对CIFAR-10数据集进行分类"
   ]
  },
  {
   "cell_type": "markdown",
   "metadata": {},
   "source": [
    "# 2 CIFAR-10数据集"
   ]
  },
  {
   "cell_type": "markdown",
   "metadata": {},
   "source": [
    "## 2.1 下载CIFAR数据集"
   ]
  },
  {
   "cell_type": "code",
   "execution_count": 1,
   "metadata": {},
   "outputs": [
    {
     "name": "stdout",
     "output_type": "stream",
     "text": [
      "数据文件已存在.\n",
      "目录已存在.\n"
     ]
    }
   ],
   "source": [
    "import urllib.request\n",
    "import os\n",
    "import tarfile\n",
    "\n",
    "# 下载\n",
    "url='http://www.cs.toronto.edu/~kriz/cifar-10-python.tar.gz'\n",
    "filepath = 'data/cifar-10-python.tar.gz'\n",
    "if not os.path.isfile(filepath):\n",
    "    result = urllib.request.urlretrieve(url,filepath)\n",
    "    print('下载:',result)\n",
    "else:\n",
    "    print('数据文件已存在.')\n",
    "\n",
    "# 解压\n",
    "if not os.path.exists('data/cifar-10-batches-py'):\n",
    "    tfile = tarfile.open('data/cifar-10-python.tar.gz','r:gz')\n",
    "    result = tfile.extractall('data/')\n",
    "    print('解压到 ./data/cifar-10-batches-py/')\n",
    "else:\n",
    "    print('目录已存在.')    "
   ]
  },
  {
   "cell_type": "markdown",
   "metadata": {},
   "source": [
    "## 2.2 导入CIFAR数据集"
   ]
  },
  {
   "cell_type": "code",
   "execution_count": 2,
   "metadata": {},
   "outputs": [
    {
     "name": "stdout",
     "output_type": "stream",
     "text": [
      "加载  data/cifar-10-batches-py/data_batch_1\n",
      "加载  data/cifar-10-batches-py/data_batch_2\n",
      "加载  data/cifar-10-batches-py/data_batch_3\n",
      "加载  data/cifar-10-batches-py/data_batch_4\n",
      "加载  data/cifar-10-batches-py/data_batch_5\n",
      "完成加载 CIFAR-10 数据集\n"
     ]
    }
   ],
   "source": [
    "import numpy as np\n",
    "import pickle as p\n",
    "\n",
    "def load_CIFAR_batch(filename):\n",
    "    '''加载单个批次数据'''\n",
    "    with open(filename,'rb') as f:\n",
    "        # 一个样本由标签和图像数据组成\n",
    "        # <1 x label><3072 x pixel> （3072=32x32x3）\n",
    "        # ...\n",
    "        # <1 x label><3072 x pixel>\n",
    "        data_dict = p.load(f, encoding='bytes')\n",
    "        images = data_dict[b'data']\n",
    "        labels = data_dict[b'labels']\n",
    "        \n",
    "        # 把原始数据结构调整为：BWHC（批次/宽度/高度/通道）\n",
    "        images = images.reshape(10000,3,32,32)\n",
    "        # tensorflow处理图像数据的结构：BWHC\n",
    "        # 把通道数据C移动到最后一个维度\n",
    "        images = images.transpose(0,2,3,1)\n",
    "        labels = np.array(labels)\n",
    "        return images, labels\n",
    "    \n",
    "def load_CIFAR_data(data_dir):\n",
    "    '''加载CIFAR数据'''\n",
    "    images_train = []\n",
    "    labels_train =[]\n",
    "    \n",
    "    for i in range(5):\n",
    "        f = os.path.join(data_dir,'data_batch_%d'%(i+1))\n",
    "        print('加载 ',f)\n",
    "        # 调用load_CIFAR_batch（）获得批量的图像及其对应的标签\n",
    "        image_batch, label_batch = load_CIFAR_batch(f)\n",
    "        images_train.append(image_batch)\n",
    "        labels_train.append(label_batch)\n",
    "        Xtrain = np.concatenate(images_train)\n",
    "        Ytrain = np.concatenate(labels_train)\n",
    "        del image_batch, label_batch\n",
    "        \n",
    "    Xtest, Ytest = load_CIFAR_batch(os.path.join(data_dir,'test_batch'))\n",
    "    print('完成加载 CIFAR-10 数据集.')\n",
    "    \n",
    "    # 返回训练集的图像和标签\n",
    "    return Xtrain, Ytrain, Xtest, Ytest\n",
    "\n",
    "data_dir = 'data/cifar-10-batches-py/'\n",
    "Xtrain, Ytrain, Xtest, Ytest = load_CIFAR_data(data_dir)"
   ]
  },
  {
   "cell_type": "markdown",
   "metadata": {},
   "source": [
    "## 2.3 显示数据集信息"
   ]
  },
  {
   "cell_type": "code",
   "execution_count": 3,
   "metadata": {},
   "outputs": [
    {
     "name": "stdout",
     "output_type": "stream",
     "text": [
      "训练数据的shape: (50000, 32, 32, 3)\n",
      "训练标签的shape: (50000,)\n",
      "测试数据的shape: (10000, 32, 32, 3)\n",
      "测试标签的shape: (10000,)\n"
     ]
    }
   ],
   "source": [
    "print('训练数据的shape:', Xtrain.shape)\n",
    "print('训练标签的shape:',Ytrain.shape)\n",
    "print('测试数据的shape:',Xtest.shape)\n",
    "print('测试标签的shape:',Ytest.shape)"
   ]
  },
  {
   "cell_type": "markdown",
   "metadata": {},
   "source": [
    "## 2.4 查看单项image和label"
   ]
  },
  {
   "cell_type": "code",
   "execution_count": 4,
   "metadata": {},
   "outputs": [
    {
     "data": {
      "text/plain": [
       "<matplotlib.image.AxesImage at 0x7f63a10e86a0>"
      ]
     },
     "execution_count": 4,
     "metadata": {},
     "output_type": "execute_result"
    },
    {
     "data": {
      "image/png": "[encoded data removed]",
      "text/plain": [
       "<Figure size 432x288 with 1 Axes>"
      ]
     },
     "metadata": {
      "needs_background": "light"
     },
     "output_type": "display_data"
    }
   ],
   "source": [
    "%matplotlib inline\n",
    "import matplotlib.pyplot as plt\n",
    "\n",
    "# 查看image\n",
    "plt.imshow(Xtrain[6])"
   ]
  },
  {
   "cell_type": "code",
   "execution_count": 5,
   "metadata": {},
   "outputs": [
    {
     "name": "stdout",
     "output_type": "stream",
     "text": [
      "2\n"
     ]
    }
   ],
   "source": [
    "# 查看label\n",
    "# 对应的类别信息可查看：http://www.cs.toronto.edu/~kriz/cifar.html\n",
    "print(Ytrain[6])"
   ]
  },
  {
   "cell_type": "markdown",
   "metadata": {},
   "source": [
    "## 2.5 查看多项image和label"
   ]
  },
  {
   "cell_type": "code",
   "execution_count": 6,
   "metadata": {},
   "outputs": [
    {
     "data": {
      "image/png": "[encoded data removed]",
      "text/plain": [
       "<Figure size 864x432 with 10 Axes>"
      ]
     },
     "metadata": {
      "needs_background": "light"
     },
     "output_type": "display_data"
    }
   ],
   "source": [
    "# 定义标签字典， 每一个数字所代表的图像类别的名称\n",
    "label_dict = {0:'airplane',1:'automobile',2:'bird',3:'cat',4:'deer',5:'dog',6:'frog',7:'horse',8:'ship',9:'truck'}\n",
    "\n",
    "# 定义显示图像数据及其对应标签的函数\n",
    "def plot_images_labels_prediction(images, labels, prediction,index,num=10):\n",
    "    fig = plt.gcf()\n",
    "    fig.set_size_inches(12,6)\n",
    "    \n",
    "    # 最多输出10幅图像\n",
    "    if num > 10:\n",
    "        num = 10\n",
    "        \n",
    "    for i in range(0,num):\n",
    "        ax = plt.subplot(2,5,1+i)\n",
    "        ax.imshow(images[index],cmap = 'binary')\n",
    "        \n",
    "        # 子图标题\n",
    "        title = str(i)+','+label_dict[labels[index]]\n",
    "        if len(prediction) > 0:\n",
    "            title+='=>'+label_dict[prediction[index]]\n",
    "        ax.set_title(title, fontsize=10)\n",
    "        \n",
    "        index = index + 1\n",
    "    plt.show()\n",
    "\n",
    "# 显示图像数据及其对应标签\n",
    "plot_images_labels_prediction(Xtest,Ytest,[],0,10)"
   ]
  },
  {
   "cell_type": "markdown",
   "metadata": {},
   "source": [
    "# 3 数据预处理"
   ]
  },
  {
   "cell_type": "markdown",
   "metadata": {},
   "source": [
    "## 3.1 图像数据预处理"
   ]
  },
  {
   "cell_type": "code",
   "execution_count": 7,
   "metadata": {},
   "outputs": [
    {
     "data": {
      "text/plain": [
       "array([59, 62, 63], dtype=uint8)"
      ]
     },
     "execution_count": 7,
     "metadata": {},
     "output_type": "execute_result"
    }
   ],
   "source": [
    "# 查看图像数据信息\n",
    "# 显示第一个图的第一个像素点\n",
    "Xtrain[0][0][0]"
   ]
  },
  {
   "cell_type": "code",
   "execution_count": 8,
   "metadata": {},
   "outputs": [],
   "source": [
    "# 将图像进行数字标准化/归一化\n",
    "Xtrain_normalize = Xtrain.astype('float32')/255.0\n",
    "Xtest_normalize = Xtest.astype('float32')/255.0"
   ]
  },
  {
   "cell_type": "code",
   "execution_count": 9,
   "metadata": {},
   "outputs": [
    {
     "data": {
      "text/plain": [
       "array([0.23137255, 0.24313726, 0.24705882], dtype=float32)"
      ]
     },
     "execution_count": 9,
     "metadata": {},
     "output_type": "execute_result"
    }
   ],
   "source": [
    "# 查看预处理后的图像数据信息\n",
    "Xtrain_normalize[0][0][0]"
   ]
  },
  {
   "cell_type": "markdown",
   "metadata": {},
   "source": [
    "## 3.2 标签数据预处理"
   ]
  },
  {
   "cell_type": "code",
   "execution_count": 10,
   "metadata": {},
   "outputs": [
    {
     "data": {
      "text/plain": [
       "array([6, 9, 9, 4, 1, 1, 2, 7, 8, 3])"
      ]
     },
     "execution_count": 10,
     "metadata": {},
     "output_type": "execute_result"
    }
   ],
   "source": [
    "# 查看标签数据\n",
    "Ytrain[:10]"
   ]
  },
  {
   "cell_type": "markdown",
   "metadata": {},
   "source": [
    "**独热编码（One-Hot Encoding）**  \n",
    "\n",
    "    +能够处理非连续型数值特征\n",
    "    +在一定程度上能够扩充特征\n",
    "    +易于计算样本间的相似性"
   ]
  },
  {
   "cell_type": "code",
   "execution_count": 11,
   "metadata": {},
   "outputs": [
    {
     "name": "stderr",
     "output_type": "stream",
     "text": [
      "/home/zhaoxt/anaconda3/lib/python3.7/site-packages/sklearn/preprocessing/_encoders.py:368: FutureWarning: The handling of integer data will change in version 0.22. Currently, the categories are determined based on the range [0, max(values)], while in the future they will be determined based on the unique values.\n",
      "If you want the future behaviour and silence this warning, you can specify \"categories='auto'\".\n",
      "In case you used a LabelEncoder before this OneHotEncoder to convert the categories to integers, then you can now use the OneHotEncoder directly.\n",
      "  warnings.warn(msg, FutureWarning)\n"
     ]
    }
   ],
   "source": [
    "from sklearn.preprocessing import OneHotEncoder\n",
    "\n",
    "encoder = OneHotEncoder(sparse=False)\n",
    "\n",
    "yy = [[0],[1],[2],[3],[4],[5],[6],[7],[8],[9]]\n",
    "encoder.fit(yy)\n",
    "Ytrain_reshape = Ytrain.reshape(-1,1)\n",
    "Ytrain_onehot = encoder.transform(Ytrain_reshape)\n",
    "Ytest_reshape = Ytest.reshape(-1,1)\n",
    "Ytest_onehot = encoder.transform(Ytest_reshape)"
   ]
  },
  {
   "cell_type": "code",
   "execution_count": 12,
   "metadata": {},
   "outputs": [
    {
     "data": {
      "text/plain": [
       "(50000, 10)"
      ]
     },
     "execution_count": 12,
     "metadata": {},
     "output_type": "execute_result"
    }
   ],
   "source": [
    "Ytrain_onehot.shape"
   ]
  },
  {
   "cell_type": "code",
   "execution_count": 13,
   "metadata": {},
   "outputs": [
    {
     "data": {
      "text/plain": [
       "array([6, 9, 9, 4, 1])"
      ]
     },
     "execution_count": 13,
     "metadata": {},
     "output_type": "execute_result"
    }
   ],
   "source": [
    "Ytrain[:5]"
   ]
  },
  {
   "cell_type": "code",
   "execution_count": 14,
   "metadata": {},
   "outputs": [
    {
     "data": {
      "text/plain": [
       "array([[0., 0., 0., 0., 0., 0., 1., 0., 0., 0.],\n",
       "       [0., 0., 0., 0., 0., 0., 0., 0., 0., 1.],\n",
       "       [0., 0., 0., 0., 0., 0., 0., 0., 0., 1.],\n",
       "       [0., 0., 0., 0., 1., 0., 0., 0., 0., 0.],\n",
       "       [0., 1., 0., 0., 0., 0., 0., 0., 0., 0.]])"
      ]
     },
     "execution_count": 14,
     "metadata": {},
     "output_type": "execute_result"
    }
   ],
   "source": [
    "Ytrain_onehot[:5]"
   ]
  },
  {
   "cell_type": "markdown",
   "metadata": {},
   "source": [
    "# 4 建立CIFAR-10图像分类模型"
   ]
  },
  {
   "cell_type": "code",
   "execution_count": 15,
   "metadata": {},
   "outputs": [
    {
     "ename": "ModuleNotFoundError",
     "evalue": "No module named 'tensorflow'",
     "output_type": "error",
     "traceback": [
      "\u001b[0;31m---------------------------------------------------------------------------\u001b[0m",
      "\u001b[0;31mModuleNotFoundError\u001b[0m                       Traceback (most recent call last)",
      "\u001b[0;32m<ipython-input-15-057116b089d3>\u001b[0m in \u001b[0;36m<module>\u001b[0;34m\u001b[0m\n\u001b[1;32m      1\u001b[0m \u001b[0;31m# 导入必要包\u001b[0m\u001b[0;34m\u001b[0m\u001b[0;34m\u001b[0m\u001b[0;34m\u001b[0m\u001b[0m\n\u001b[0;32m----> 2\u001b[0;31m \u001b[0;32mimport\u001b[0m \u001b[0mtensorflow\u001b[0m \u001b[0;32mas\u001b[0m \u001b[0mtf\u001b[0m\u001b[0;34m\u001b[0m\u001b[0;34m\u001b[0m\u001b[0m\n\u001b[0m\u001b[1;32m      3\u001b[0m \u001b[0;31m# 清空计算图\u001b[0m\u001b[0;34m\u001b[0m\u001b[0;34m\u001b[0m\u001b[0;34m\u001b[0m\u001b[0m\n\u001b[1;32m      4\u001b[0m \u001b[0mtf\u001b[0m\u001b[0;34m.\u001b[0m\u001b[0mreset_default_graph\u001b[0m\u001b[0;34m(\u001b[0m\u001b[0;34m)\u001b[0m\u001b[0;34m\u001b[0m\u001b[0;34m\u001b[0m\u001b[0m\n",
      "\u001b[0;31mModuleNotFoundError\u001b[0m: No module named 'tensorflow'"
     ]
    }
   ],
   "source": [
    "# 导入必要包\n",
    "import tensorflow as tf\n",
    "# 清空计算图\n",
    "tf.reset_default_graph()"
   ]
  },
  {
   "cell_type": "markdown",
   "metadata": {},
   "source": [
    "## 4.1 定义共享函数"
   ]
  },
  {
   "cell_type": "code",
   "execution_count": null,
   "metadata": {},
   "outputs": [],
   "source": [
    "# 定义权值\n",
    "def weight(shape):\n",
    "    # 在构建模型时，需要使用tf.Variable来创建一个变量\n",
    "    # 在训练时，这个变量不断更新\n",
    "    # 使用函数tf.truncated_normal(截断的正态分布)生成标准差为0.1的随机数来初始化权值\n",
    "    return tf.Variable(tf.truncated_normal(shape, stddev=0.1), name = 'W')\n",
    "\n",
    "# 定义偏置\n",
    "# 初始化为0.1\n",
    "def bias(shape):\n",
    "    return tf.Variable(tf.constant(0.1, shape = shape), name='b')\n",
    "\n",
    "# 定义卷积操作\n",
    "# 步长为1， padding为“SAME”\n",
    "def conv2d(x,W):\n",
    "    # tf.nn.conv2d(input, filter, strides, padding, use_cudnn_on_gpu=None, name=None)\n",
    "    return tf.nn.conv2d(x,W,strides=[1,1,1,1],padding=\"SAME\")\n",
    "\n",
    "# 定义池化操作\n",
    "# 步长为2， 即原尺寸的长和宽各除以2\n",
    "def max_pool_2x2(x):\n",
    "    # tf.nn.max_pool(value,ksize,strides,padding, name=None)\n",
    "    return tf.nn.max_pool(x,ksize=[1,2,2,1],strides=[1,2,2,1],padding=\"SAME\")"
   ]
  },
  {
   "cell_type": "markdown",
   "metadata": {},
   "source": [
    "## 4.2 定义网络结构"
   ]
  },
  {
   "cell_type": "code",
   "execution_count": null,
   "metadata": {},
   "outputs": [],
   "source": [
    "# 输入层\n",
    "# 输入32x32图像，通道3（RGB）\n",
    "with tf.name_scope(\"input_layer\"):\n",
    "    x = tf.placeholder(tf.float32, shape=[None,32,32,3], name='X')\n",
    "\n",
    "# 第1个卷积层\n",
    "# 输入通道：3，输出通道：32，卷积后图像尺寸不变，仍为32x32\n",
    "with tf.name_scope('conv_1'):\n",
    "    # [k_width,k_height,input_chn,output_chn]\n",
    "    W1 = weight([3,3,3,32])\n",
    "    # 与output_chn一致\n",
    "    b1 = bias([32])\n",
    "    conv_1 = conv2d(x,W1) + b1\n",
    "    \n",
    "    # ReLU激活函数\n",
    "    conv_1 = tf.nn.relu(conv_1)\n",
    "\n",
    "# 第1个池化层\n",
    "# 将32x32图像缩小为16x16，池化不改变通道数量，因此仍为32个\n",
    "with tf.name_scope('pool_1'):\n",
    "    pool_1 = max_pool_2x2(conv_1)\n",
    "\n",
    "# 第2个卷积层\n",
    "# 输入通道：32，输出通道：64，卷积后图像尺寸不变，仍为16x16\n",
    "with tf.name_scope('conv_2'):\n",
    "    W2 = weight([3,3,32,64])\n",
    "    b2 = bias([64])\n",
    "    conv_2 = conv2d(pool_1,W2) + b2\n",
    "    conv_2 = tf.nn.relu(conv_2)\n",
    "\n",
    "# 第2个池化层\n",
    "# 将16x16图像缩小为8x8，池化不改变通道数量，因此仍为64个\n",
    "with tf.name_scope('pool_2'):\n",
    "    pool_2 = max_pool_2x2(conv_2)\n",
    "\n",
    "# 全连接层\n",
    "# 将第2个池化层的64个8x8的图像转换为一维的向量，长度是64x8x8=4096\n",
    "# 128个神经元\n",
    "with tf.name_scope('fcn_layer'):\n",
    "    W3 = weight([4096,128])\n",
    "    b3 = bias([128])\n",
    "    flat = tf.reshape(pool_2,[-1,4096])\n",
    "    h = tf.nn.relu(tf.matmul(flat,W3) + b3)\n",
    "    \n",
    "    # 防止过拟合 2012年 Hiton提出 使某些神经元以一定概率停止工作\n",
    "    h_dropout = tf.nn.dropout(h,keep_prob=0.8)\n",
    "\n",
    "# 输出层\n",
    "# 输出层共有10个神经元， 对应到0~9这10个类别\n",
    "with tf.name_scope('output_layer'):\n",
    "    W4 = weight([128,10])\n",
    "    b4 = bias([10])\n",
    "    \n",
    "    # softmax归一化\n",
    "    pred = tf.nn.softmax(tf.matmul(h_dropout,W4)+b4)"
   ]
  },
  {
   "cell_type": "markdown",
   "metadata": {},
   "source": [
    "## 4.3 构建模型"
   ]
  },
  {
   "cell_type": "code",
   "execution_count": null,
   "metadata": {},
   "outputs": [],
   "source": [
    "# 训练参数\n",
    "train_epochs = 25\n",
    "learning_rate = 0.001\n",
    "batch_size = 50\n",
    "display_step = 100"
   ]
  },
  {
   "cell_type": "code",
   "execution_count": null,
   "metadata": {},
   "outputs": [],
   "source": [
    "with tf.name_scope(\"optimizer\"):\n",
    "    # 定义占位符\n",
    "    y = tf.placeholder(tf.float32,shape=[None,10], name = 'label')\n",
    "    \n",
    "    # 定义交叉熵损失函数\n",
    "    loss_function = tf.reduce_mean(tf.nn.softmax_cross_entropy_with_logits(logits=pred, labels=y))\n",
    "    \n",
    "    # 选择优化器\n",
    "    optimizer = tf.train.AdamOptimizer(learning_rate).minimize(loss_function)"
   ]
  },
  {
   "cell_type": "markdown",
   "metadata": {},
   "source": [
    "## 4.4 定义准确率"
   ]
  },
  {
   "cell_type": "code",
   "execution_count": null,
   "metadata": {},
   "outputs": [],
   "source": [
    "with tf.name_scope('evaluation'):\n",
    "    correct_prediction = tf.equal(tf.argmax(pred,1),tf.argmax(y,1))\n",
    "    accuracy = tf.reduce_mean(tf.cast(correct_prediction,tf.float32))"
   ]
  },
  {
   "cell_type": "markdown",
   "metadata": {},
   "source": [
    "# 5 训练模型"
   ]
  },
  {
   "cell_type": "markdown",
   "metadata": {},
   "source": [
    "## 5.1 启动会话"
   ]
  },
  {
   "cell_type": "code",
   "execution_count": null,
   "metadata": {},
   "outputs": [],
   "source": [
    "from time import time\n",
    "\n",
    "total_batch = int(len(Xtrain)/batch_size)\n",
    "epoch_list = []\n",
    "accuracy_list = []\n",
    "loss_list = []\n",
    "\n",
    "epoch = tf.Variable(0, name = 'epoch', trainable=False)\n",
    "\n",
    "startTime = time()\n",
    "\n",
    "# 建立tensorflow会话\n",
    "sess = tf.Session()\n",
    "\n",
    "# 初始化变量\n",
    "init = tf.global_variables_initializer()\n",
    "sess.run(init)"
   ]
  },
  {
   "cell_type": "markdown",
   "metadata": {},
   "source": [
    "## 5.2 断点续训"
   ]
  },
  {
   "cell_type": "code",
   "execution_count": null,
   "metadata": {},
   "outputs": [],
   "source": [
    "# 设置检查点存储目录\n",
    "ckpt_dir = 'CIFAR-10_log/'\n",
    "if not os.path.exists(ckpt_dir):\n",
    "    os.makedirs(ckpt_dir)\n",
    "\n",
    "# 生成saver\n",
    "saver = tf.train.Saver(max_to_keep=1)\n",
    "\n",
    "# 创建summary_writer，用于写图文件\n",
    "summary_writer = tf.summary.FileWriter(ckpt_dir,sess.graph)\n",
    "\n",
    "# 如果存在检查点文件，读取最新的检查点文件，恢复各种变量值\n",
    "ckpt = tf.train.latest_checkpoint(ckpt_dir)\n",
    "if ckpt != None:\n",
    "    # 加载所有参数\n",
    "    saver.restore(sess, ckpt)\n",
    "    # 从这里开始就可以直接使用模型进行预测，或者接着训练\n",
    "else:\n",
    "    print('开始全新训练... ...')\n",
    "\n",
    "# 获取续训参数\n",
    "start = sess.run(epoch)\n",
    "print('起始训练批次： {}'.format(start+1))"
   ]
  },
  {
   "cell_type": "markdown",
   "metadata": {},
   "source": [
    "## 5.3 迭代训练"
   ]
  },
  {
   "cell_type": "code",
   "execution_count": null,
   "metadata": {},
   "outputs": [],
   "source": [
    "# 获取小批量训练数据\n",
    "def get_train_batch(number, batch_size):\n",
    "    return Xtrain_normalize[number*batch_size:(number + 1)*batch_size],\\\n",
    "                Ytrain_onehot[number*batch_size:(number + 1)*batch_size]\n",
    "\n",
    "for ep in range(start, train_epochs):\n",
    "    \n",
    "    for i in range(total_batch):\n",
    "        batch_x, batch_y = get_train_batch(i, batch_size)\n",
    "        \n",
    "        sess.run(optimizer, feed_dict={x:batch_x, y:batch_y})\n",
    "        \n",
    "        if (i+1)%display_step == 0:\n",
    "            print('第 {} 个批量'.format(i + 1),' 已完成.')\n",
    "    \n",
    "    loss, acc = sess.run([loss_function,accuracy], feed_dict={x:batch_x,y:batch_y})\n",
    "    epoch_list.append(ep + 1)\n",
    "    loss_list.append(loss)\n",
    "    accuracy_list.append(acc)\n",
    "    \n",
    "    print('训练批次:','%02d'%(sess.run(epoch)+1),\n",
    "         '损失（Loss）=','{:.9f}'.format(loss),'分类准确率（Accuracy）=','{:.4f}'.format(acc))\n",
    "    \n",
    "    # 保存检查点\n",
    "    saver.save(sess,ckpt_dir + 'CIFAR-10_cnn_model.cpkt',global_step=ep+1)\n",
    "    sess.run(epoch.assign(ep+1))\n",
    "    \n",
    "duration = time() - startTime\n",
    "print('训练用时： ',\"{:.2f}\".format(duration))"
   ]
  },
  {
   "cell_type": "markdown",
   "metadata": {},
   "source": [
    "**改进方式**（根据个人可利用的计算资源)  \n",
    "\n",
    "    +增加网络层数\n",
    "    +增加迭代次数\n",
    "    +增加全连接层数\n",
    "    +增加全连接的神经元个数\n",
    "    +数据扩增等"
   ]
  },
  {
   "cell_type": "markdown",
   "metadata": {},
   "source": [
    "## 5.4 可视化损失值"
   ]
  },
  {
   "cell_type": "code",
   "execution_count": null,
   "metadata": {},
   "outputs": [],
   "source": [
    "%matplotlib inline\n",
    "\n",
    "from pylab import mpl\n",
    "plt.rcParams['font.sans-serif']=['SimHei']    # 用来正常显示中文标签\n",
    "plt.rcParams['axes.unicode_minus']=False       # 用来正常显示负号\n",
    "\n",
    "import matplotlib.pyplot as plt\n",
    "fig = plt.gcf()\n",
    "fig.set_size_inches(4,2)\n",
    "plt.plot(epoch_list,loss_list, label=\"loss\")\n",
    "plt.ylabel('损失(loss)')\n",
    "plt.xlabel('批次（epoch）')\n",
    "plt.legend(['损失(loss)'], loc='upper right')"
   ]
  },
  {
   "cell_type": "markdown",
   "metadata": {},
   "source": [
    "## 5.5 可视化准确率"
   ]
  },
  {
   "cell_type": "code",
   "execution_count": null,
   "metadata": {},
   "outputs": [],
   "source": [
    "plt.plot(epoch_list, accuracy_list, label='准确率（accuracy）')\n",
    "fig = plt.gcf()\n",
    "fig.set_size_inches(4,2)\n",
    "plt.ylim(0.1,1)\n",
    "plt.ylabel('准确率（accuracy）')\n",
    "plt.xlabel('批次（epoch）')\n",
    "plt.legend()\n",
    "plt.show()"
   ]
  },
  {
   "cell_type": "markdown",
   "metadata": {},
   "source": [
    "# 6 评估模型及预测"
   ]
  },
  {
   "cell_type": "markdown",
   "metadata": {},
   "source": [
    "## 6.1 计算测试集上的准确率"
   ]
  },
  {
   "cell_type": "code",
   "execution_count": null,
   "metadata": {},
   "outputs": [],
   "source": [
    "test_total_batch = int(len(Xtest_normalize)/batch_size)\n",
    "test_acc_sum = 0.0\n",
    "\n",
    "for i in range(test_total_batch):\n",
    "    test_image_batch = Xtest_normalize[i*batch_size:(i+1)*batch_size]\n",
    "    test_label_batch = Ytest_onehot[i*batch_size:(i+1)*batch_size]\n",
    "    test_batch_acc = sess.run(accuracy, feed_dict={x:test_image_batch, y:test_label_batch})\n",
    "    test_acc_sum += test_batch_acc\n",
    "test_acc = float(test_acc_sum/test_total_batch)\n",
    "print(\"测试集分类准确率：{:.6f}\".format(test_acc))\n"
   ]
  },
  {
   "cell_type": "markdown",
   "metadata": {},
   "source": [
    "## 6.2 利用模型进行预测"
   ]
  },
  {
   "cell_type": "code",
   "execution_count": null,
   "metadata": {},
   "outputs": [],
   "source": [
    "test_pred = sess.run(pred, feed_dict={x:Xtest_normalize[:10]})\n",
    "prediction_result = sess.run(tf.argmax(test_pred,1))"
   ]
  },
  {
   "cell_type": "markdown",
   "metadata": {},
   "source": [
    "## 6.3 可视化预测结果"
   ]
  },
  {
   "cell_type": "code",
   "execution_count": null,
   "metadata": {},
   "outputs": [],
   "source": [
    "plot_images_labels_prediction(Xtest, Ytest, prediction_result, 0, 10)"
   ]
  },
  {
   "cell_type": "code",
   "execution_count": null,
   "metadata": {},
   "outputs": [],
   "source": []
  }
 ],
 "metadata": {
  "kernelspec": {
   "display_name": "Python 3",
   "language": "python",
   "name": "python3"
  },
  "language_info": {
   "codemirror_mode": {
    "name": "ipython",
    "version": 3
   },
   "file_extension": ".py",
   "mimetype": "text/x-python",
   "name": "python",
   "nbconvert_exporter": "python",
   "pygments_lexer": "ipython3",
   "version": "3.7.1"
  }
 },
 "nbformat": 4,
 "nbformat_minor": 2
}
